{
 "cells": [
  {
   "cell_type": "markdown",
   "metadata": {},
   "source": [
    "# DSCI 531 Lab 1: Getting started with data vis and `ggplot2`\n",
    "\n",
    "\n",
    "## Assignment Details\n",
    "\n",
    "This lab assignment is aimed to be roughly equivalent to half of a \"regular\" lab assignment. You should be able to finish it within the Lab 1 time slot. It is meant to kickstart the course and to get you thinking about data vis and `ggplot2`. \n",
    "\n",
    "As such, you'll be:\n",
    "\n",
    "- Thinking about different graph types\n",
    "- Thinking about the purpose of graphs\n",
    "- Making a graph with the R package `ggplot2`\n",
    "\n",
    "This lab assignment is not auto-graded. \n",
    "\n",
    "## Getting Started\n",
    "\n",
    "- Have the `ggplot2` R package installed. Better yet, install the `tidyverse` meta-package, which contains the `ggplot2` package. \n",
    "- Have the `gapminder` R package installed. You'll be making a plot using the gapminder data set that comes with this package. \n",
    "\n",
    "The code for package installation is _not_ something that needs to be reproducible! Just run it once in an R console, not keeping the `install.packages` call.\n",
    "\n",
    "## Tidy Submission (worth 5%)\n",
    "\n",
    "rubric={mechanics:5}\n",
    "\n",
    "To get the marks for tidy submission:\n",
    "\n",
    "- Submit the assignment by filling in this jupyter notebook with your answers embedded\n",
    "- Be sure to follow the [general lab instructions](https://ubc-mds.github.io/resources_pages/general_lab_instructions/)\n",
    "- Do not include any code that installs packages (this is not good practice anyway)"
   ]
  },
  {
   "cell_type": "markdown",
   "metadata": {},
   "source": [
    "## Exercise 1 (worth 55%)\n",
    "\n",
    "rubric={writing:10}\n",
    "\n",
    "Look up three different types of graphs. For each, include the following:\n",
    "\n",
    "1. The name of the graph\n",
    "2. The types (categorical? quantitative?) and number of variables that are represented in the graph type.\n",
    "3. A description of the graph, such as its components and how one might draw one.\n",
    "    - FYI: this is meant to set the stage for the _grammar of graphics_ later.\n",
    "4. A comment on what information the graph type communicates.\n",
    "\n",
    "We're not asking for you to nitpick here, nor write a lot. Just provide the big-picture idea in one or two brief sentences, like you would on a quiz. \n",
    "\n",
    "You might find the [R graph gallery](https://www.r-graph-gallery.com/all-graphs/) useful to look up different graph types. \n",
    "\n",
    "To get the points corresponding to the `writing` rubric here, your responses (to go in Sections 1.1 - 1.3) should use proper English, spelling, and grammar. "
   ]
  },
  {
   "cell_type": "markdown",
   "metadata": {},
   "source": [
    "### 1.1\n",
    "\n",
    "rubric={reasoning:15}\n",
    "\n",
    "Put your response for the first graph type below."
   ]
  },
  {
   "cell_type": "markdown",
   "metadata": {},
   "source": [
    "YOUR_RESPONSE_HERE"
   ]
  },
  {
   "cell_type": "markdown",
   "metadata": {},
   "source": [
    "### 1.2\n",
    "\n",
    "rubric={reasoning:15}\n",
    "\n",
    "Put your response for the second graph type below."
   ]
  },
  {
   "cell_type": "markdown",
   "metadata": {},
   "source": [
    "YOUR_RESPONSE_HERE"
   ]
  },
  {
   "cell_type": "markdown",
   "metadata": {},
   "source": [
    "### 1.3\n",
    "\n",
    "rubric={reasoning:15}\n",
    "\n",
    "Put your response for the third graph type below."
   ]
  },
  {
   "cell_type": "markdown",
   "metadata": {},
   "source": [
    "YOUR_RESPONSE_HERE"
   ]
  },
  {
   "cell_type": "markdown",
   "metadata": {},
   "source": [
    "## Exercise 2 (worth 40%)\n",
    "\n",
    "In this exercise, you'll be making two basic plots with the `ggplot2` package: a scatterplot and a histogram. We recommend plotting data from the gapminder data set, but you can use other data if you'd like. You can find the gapminder data set as a data frame called `gapminder` found in the `gapminder` package.\n",
    "\n",
    "__Grading:__\n",
    "\n",
    "- To get the `accuracy` points:\n",
    "    - The plot should be generated without error.\n",
    "- To get the `reasoning` points:\n",
    "    - You choose the variable(s) to be plotted: they should be the correct type of variable (categorical? numeric?) for the plot type.\n",
    "    - Be sure to use the function `ggplot()`, not `qplot()` (both from the `ggplot2` package).\n",
    "    - We are not expecting publication-quality nor effective graphics.\n",
    "\n",
    "\n",
    "__Making a plot:__\n",
    "\n",
    "- To make a plot, you'll need to call the `ggplot()` function, then literally add (with `+`) other layers. \n",
    "- In this case, for each plot, you only need to add one layer: a function of the form `geom_*()`, where `*` usually indicates the \"type\" of plot. For a histogram, the function is `geom_histogram()` -- we'll leave it up to you to look up the function for a scatterplot. You don't need to indicate any arguments to the `geom` function here. \n",
    "\n",
    "The general syntax is below:\n",
    "\n",
    "```\n",
    "ggplot(data_frame_goes_here, aes(x = x_variable_name_here, y = y_variable_name_here_if_present)) +\n",
    "    geom_*()\n",
    "```\n",
    "\n",
    "Don't put quotation marks around the variable names.\n",
    "\n",
    "If you need more help, you might find the [R graphics cookbook](http://www.cookbook-r.com/Graphs/) helpful."
   ]
  },
  {
   "cell_type": "markdown",
   "metadata": {},
   "source": [
    "### 2.1\n",
    "\n",
    "rubric={accuracy:13, reasoning:7}\n",
    "\n",
    "Put your scatterplot below."
   ]
  },
  {
   "cell_type": "code",
   "execution_count": null,
   "metadata": {},
   "outputs": [],
   "source": []
  },
  {
   "cell_type": "markdown",
   "metadata": {},
   "source": [
    "### 2.2\n",
    "\n",
    "rubric={accuracy:13, reasoning:7}\n",
    "\n",
    "Put your histogram below."
   ]
  },
  {
   "cell_type": "code",
   "execution_count": null,
   "metadata": {},
   "outputs": [],
   "source": []
  }
 ],
 "metadata": {
  "kernelspec": {
   "display_name": "R",
   "language": "R",
   "name": "ir"
  },
  "language_info": {
   "codemirror_mode": "r",
   "file_extension": ".r",
   "mimetype": "text/x-r-source",
   "name": "R",
   "pygments_lexer": "r",
   "version": "3.5.1"
  }
 },
 "nbformat": 4,
 "nbformat_minor": 2
}
