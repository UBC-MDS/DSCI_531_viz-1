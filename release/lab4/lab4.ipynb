{
 "cells": [
  {
   "cell_type": "markdown",
   "metadata": {},
   "source": [
    "# DSCI 531 Lab Assignment 4: Python graphing tools\n",
    "\n",
    "Due Saturday\n",
    "\n",
    "## Objective\n",
    "\n",
    "This \"tooling\" lab assignment was designed to give you practice using Python to create graphs. You'll be making four plots, twice: once using `matplotlib` with `pandas`, and another using `seaborn`.\n",
    "\n",
    "You may have to wrangle some data to make some of the plots. You are welcome to do this with R if you'd like. If so, you can write the wrangled data to file, then read into Python; alternatively, you can call R from python using the [`rpy2` package](http://rpy.sourceforge.net/rpy2/doc-2.1/html/introduction.html)."
   ]
  },
  {
   "cell_type": "markdown",
   "metadata": {},
   "source": [
    "## Tidy Submission (worth 5%)\n",
    "\n",
    "rubric={mechanics:5}\n",
    "\n",
    "To get the marks for tidy submission:\n",
    "\n",
    "- Submit the assignment by filling in this jupyter notebook with your answers embedded\n",
    "- Be sure to follow the [general lab instructions](https://ubc-mds.github.io/resources_pages/general_lab_instructions/)\n",
    "    - You'll probably have to edit the repo structure and/or the README's that were provided for you if you make changes. \n",
    "- Do not include any code that installs packages (this is not good practice anyway) -- you can and should _load_ them, though.\n",
    "- Use proper English, spelling, and grammar."
   ]
  },
  {
   "cell_type": "markdown",
   "metadata": {},
   "source": [
    "## Overall Code Quality (worth 10%)\n",
    "\n",
    "rubric={quality:10}\n",
    "\n",
    "To get these marks, your code should be high quality. See the [rubric](https://github.com/UBC-MDS/public/blob/master/rubric/rubric_quality.md) for details.\n"
   ]
  },
  {
   "cell_type": "markdown",
   "metadata": {},
   "source": [
    "## Exercise 1: Scatterplot (worth 25%)\n",
    "\n",
    "Use both `matplotlib`/`pandas` and `seaborn` to make a scatterplot of age and fare from the [titanic dataset](data/titanic.csv). Colour by \"passenger class\"."
   ]
  },
  {
   "cell_type": "markdown",
   "metadata": {},
   "source": [
    "### 1.1: matplotlib/pandas\n",
    "\n",
    "rubric={accuracy:10}\n",
    "\n",
    "Put your `matplotlib`/`pandas`-version of the graph below."
   ]
  },
  {
   "cell_type": "code",
   "execution_count": null,
   "metadata": {},
   "outputs": [],
   "source": []
  },
  {
   "cell_type": "markdown",
   "metadata": {},
   "source": [
    "### 1.2: seaborn\n",
    "\n",
    "rubric={accuracy:10}\n",
    "\n",
    "Put your `seaborn`-version of the graph below."
   ]
  },
  {
   "cell_type": "code",
   "execution_count": null,
   "metadata": {},
   "outputs": [],
   "source": []
  },
  {
   "cell_type": "markdown",
   "metadata": {},
   "source": [
    "### 1.3: EDA\n",
    "\n",
    "rubric={reasoning:5}\n",
    "\n",
    "Use the scatterplot to provide insight into the following questions. In addition, indicate what it is about the graph that got you to make that conclusion.\n",
    "\n",
    "- One might think that older people would have chosen higher passenger classes. Is this the case?\n",
    "- Did different age groups pay different amounts for the various passenger classes? For example, maybe younger people had to pay more for higher class."
   ]
  },
  {
   "cell_type": "code",
   "execution_count": null,
   "metadata": {},
   "outputs": [],
   "source": []
  },
  {
   "cell_type": "markdown",
   "metadata": {},
   "source": [
    "## Exercise 2: Line chart (worth 20%)\n",
    "\n",
    "Use both `matplotlib` and `seaborn` to plot life expectancy over time (year) for four countries of your choice in the `gapminder` data set. Colour by country. Use a line to connect the dots for each country (you don't have to show the point geom's). Add alpha transparency to combat overplotting.\n",
    "\n",
    "__Note__: We've written [an R script] (in the `src` directory) that filters the gapminder data to select countries that you can use if you'd like. "
   ]
  },
  {
   "cell_type": "markdown",
   "metadata": {},
   "source": [
    "### 2.1: matplotlib/pandas\n",
    "\n",
    "rubric={accuracy:10}\n",
    "\n",
    "Put your `matplotlib`/`pandas`-version of the graph below."
   ]
  },
  {
   "cell_type": "code",
   "execution_count": null,
   "metadata": {},
   "outputs": [],
   "source": []
  },
  {
   "cell_type": "markdown",
   "metadata": {},
   "source": [
    "### 2.2: seaborn\n",
    "\n",
    "rubric={accuracy:10}\n",
    "\n",
    "Put your `seaborn`-version of the graph below."
   ]
  },
  {
   "cell_type": "code",
   "execution_count": null,
   "metadata": {},
   "outputs": [],
   "source": []
  },
  {
   "cell_type": "markdown",
   "metadata": {},
   "source": [
    "## Exercise 3: Histogram (worth 20%)\n",
    "\n",
    "Choose one numeric variable from the [titanic dataset](data/titanic.csv) you are interested in. Use both `matplotlib` and `seaborn` to plot the data as a histogram. In one brief sentence, what does the histogram tell us?"
   ]
  },
  {
   "cell_type": "markdown",
   "metadata": {},
   "source": [
    "### 3.1: matplotlib/pandas\n",
    "\n",
    "rubric={accuracy:10}\n",
    "\n",
    "Put your `matplotlib`/`pandas`-version of the graph below."
   ]
  },
  {
   "cell_type": "code",
   "execution_count": null,
   "metadata": {},
   "outputs": [],
   "source": []
  },
  {
   "cell_type": "markdown",
   "metadata": {},
   "source": [
    "### 3.2: seaborn\n",
    "\n",
    "rubric={accuracy:10}\n",
    "\n",
    "Put your `seaborn`-version of the graph below."
   ]
  },
  {
   "cell_type": "code",
   "execution_count": null,
   "metadata": {},
   "outputs": [],
   "source": []
  },
  {
   "cell_type": "markdown",
   "metadata": {},
   "source": [
    "## Exercise 4:  Boxplots (worth 20%)\n",
    "\n",
    "Choose a numeric variable from the [titanic dataset](data/titanic.csv) (either fare or age) and one categorical variable you are interested in. Use both `matplotlib` and `seaborn` to create boxplots to visualize the relationship between the two variables. In one brief sentence, what do these boxplots tell us?"
   ]
  },
  {
   "cell_type": "markdown",
   "metadata": {},
   "source": [
    "### 4.1: matplotlib/pandas\n",
    "\n",
    "rubric={accuracy:10}\n",
    "\n",
    "Put your `matplotlib`/`pandas`-version of the graph below."
   ]
  },
  {
   "cell_type": "code",
   "execution_count": null,
   "metadata": {},
   "outputs": [],
   "source": []
  },
  {
   "cell_type": "markdown",
   "metadata": {},
   "source": [
    "### 4.2: seaborn\n",
    "\n",
    "rubric={accuracy:10}\n",
    "\n",
    "Put your `seaborn`-version of the graph below."
   ]
  },
  {
   "cell_type": "code",
   "execution_count": null,
   "metadata": {},
   "outputs": [],
   "source": []
  }
 ],
 "metadata": {
  "kernelspec": {
   "display_name": "Python 3",
   "language": "python",
   "name": "python3"
  },
  "language_info": {
   "codemirror_mode": {
    "name": "ipython",
    "version": 3
   },
   "file_extension": ".py",
   "mimetype": "text/x-python",
   "name": "python",
   "nbconvert_exporter": "python",
   "pygments_lexer": "ipython3",
   "version": "3.5.5"
  }
 },
 "nbformat": 4,
 "nbformat_minor": 2
}
